{
  "nbformat": 4,
  "nbformat_minor": 0,
  "metadata": {
    "colab": {
      "private_outputs": true,
      "provenance": [],
      "authorship_tag": "ABX9TyNZa6oDRf7bZZpMZp8hhqlU",
      "include_colab_link": true
    },
    "kernelspec": {
      "name": "python3",
      "display_name": "Python 3"
    },
    "language_info": {
      "name": "python"
    }
  },
  "cells": [
    {
      "cell_type": "markdown",
      "metadata": {
        "id": "view-in-github",
        "colab_type": "text"
      },
      "source": [
        "<a href=\"https://colab.research.google.com/github/tehmik3/pass_generator/blob/main/passGenerator.ipynb\" target=\"_parent\"><img src=\"https://colab.research.google.com/assets/colab-badge.svg\" alt=\"Open In Colab\"/></a>"
      ]
    },
    {
      "cell_type": "markdown",
      "source": [
        "# Password **Generator** *italicized text*"
      ],
      "metadata": {
        "id": "-FglR307v0Dp"
      }
    },
    {
      "cell_type": "code",
      "execution_count": null,
      "metadata": {
        "id": "DiXLf_yhvx0T"
      },
      "outputs": [],
      "source": [
        "import random\n",
        "\n",
        "print('Welcome To Your Password Generator')\n",
        "\n",
        "chars = ('abcdefghijklmnopqrstuvwxyzABCDEFGHIJKLMNOPQRSTUVWXYZ,.!@#$%^&*(),.?0123456789')\n",
        "\n",
        "number = int(input('Amount of password to generate: '))\n",
        "\n",
        "length = int(input('Input your password length: '))\n",
        "\n",
        "\n",
        "for pwd in range(number):\n",
        "    passwords = \" \"\n",
        "    for c in range(length):\n",
        "        passwords += random.choice(chars)\n",
        "    print(passwords)"
      ]
    }
  ]
}